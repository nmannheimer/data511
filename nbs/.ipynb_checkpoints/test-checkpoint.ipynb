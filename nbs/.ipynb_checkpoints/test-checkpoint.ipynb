{
 "cells": [
  {
   "cell_type": "code",
   "execution_count": 1,
   "id": "874ed107-cf2a-4c9c-a739-61fed77fc6b8",
   "metadata": {},
   "outputs": [
    {
     "ename": "ModuleNotFoundError",
     "evalue": "No module named 'streamlit'",
     "output_type": "error",
     "traceback": [
      "\u001b[0;31m---------------------------------------------------------------------------\u001b[0m",
      "\u001b[0;31mModuleNotFoundError\u001b[0m                       Traceback (most recent call last)",
      "Cell \u001b[0;32mIn[1], line 1\u001b[0m\n\u001b[0;32m----> 1\u001b[0m \u001b[38;5;28;01mimport\u001b[39;00m \u001b[38;5;21;01mstreamlit\u001b[39;00m \u001b[38;5;28;01mas\u001b[39;00m \u001b[38;5;21;01mst\u001b[39;00m\n\u001b[1;32m      2\u001b[0m \u001b[38;5;66;03m# import wikipedia\u001b[39;00m\n\u001b[1;32m      4\u001b[0m \u001b[38;5;28;01mfrom\u001b[39;00m \u001b[38;5;21;01mstreamlit_searchbox\u001b[39;00m \u001b[38;5;28;01mimport\u001b[39;00m st_searchbox\n",
      "\u001b[0;31mModuleNotFoundError\u001b[0m: No module named 'streamlit'"
     ]
    }
   ],
   "source": [
    "import streamlit as st\n",
    "# import wikipedia\n",
    "\n",
    "from streamlit_searchbox import st_searchbox"
   ]
  },
  {
   "cell_type": "code",
   "execution_count": null,
   "id": "dd0dff30-3fc1-47d4-897c-f61d6aa35445",
   "metadata": {},
   "outputs": [],
   "source": [
    "\n",
    "\n",
    "def search_wikipedia(searchterm: str) -> list:\n",
    "    # search wikipedia for the searchterm\n",
    "    return wikipedia.search(searchterm) if searchterm else []\n",
    "\n",
    "\n",
    "# pass search function and other options as needed\n",
    "selected_value = st_searchbox(\n",
    "    search_wikipedia,\n",
    "    placeholder=\"Search Wikipedia... \",\n",
    "    key=\"my_key\",\n",
    ")\n",
    "\n",
    "st.write(f\"Selected value: {selected_value}\")"
   ]
  },
  {
   "cell_type": "code",
   "execution_count": null,
   "id": "c78763ed-0008-44b9-912f-4e886a221892",
   "metadata": {},
   "outputs": [],
   "source": []
  },
  {
   "cell_type": "code",
   "execution_count": null,
   "id": "fabfcddc-9658-4372-b26c-6118afbb65d2",
   "metadata": {},
   "outputs": [],
   "source": []
  },
  {
   "cell_type": "code",
   "execution_count": null,
   "id": "61b20272-8ac7-426a-afe6-da1d45b4f429",
   "metadata": {},
   "outputs": [],
   "source": []
  }
 ],
 "metadata": {
  "kernelspec": {
   "display_name": "Python 3 (ipykernel)",
   "language": "python",
   "name": "python3"
  },
  "language_info": {
   "codemirror_mode": {
    "name": "ipython",
    "version": 3
   },
   "file_extension": ".py",
   "mimetype": "text/x-python",
   "name": "python",
   "nbconvert_exporter": "python",
   "pygments_lexer": "ipython3",
   "version": "3.10.13"
  }
 },
 "nbformat": 4,
 "nbformat_minor": 5
}
